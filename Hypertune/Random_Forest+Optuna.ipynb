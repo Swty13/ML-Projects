{
 "cells": [
  {
   "cell_type": "markdown",
   "metadata": {},
   "source": [
    "# Random Forest + Optuna"
   ]
  },
  {
   "cell_type": "code",
   "execution_count": null,
   "metadata": {},
   "outputs": [],
   "source": [
    "### if you want to install optuna just uncomment the code bellow\n",
    "#!pip install optuna "
   ]
  },
  {
   "cell_type": "code",
   "execution_count": 7,
   "metadata": {},
   "outputs": [],
   "source": [
    "import pandas as pd\n",
    "import numpy as np\n",
    "\n",
    "\n",
    "## optuna modules\n",
    "import optuna\n",
    "import functools\n",
    "import gc\n",
    "\n",
    "## import sklearn\n",
    "from sklearn.preprocessing import StandardScaler\n",
    "from sklearn.metrics import f1_score,accuracy_score,roc_auc_score,make_scorer\n",
    "from sklearn.model_selection import StratifiedKFold, cross_val_score, KFold,TimeSeriesSplit,train_test_split\n",
    "from sklearn.ensemble import RandomForestClassifier"
   ]
  },
  {
   "cell_type": "markdown",
   "metadata": {},
   "source": [
    "### Dataset"
   ]
  },
  {
   "cell_type": "code",
   "execution_count": 2,
   "metadata": {},
   "outputs": [],
   "source": [
    "df = pd.read_csv(\"data.csv\")\n",
    "X = df.drop(columns=[\"id\", \"Unnamed: 32\", \"diagnosis\"])\n",
    "y = df[\"diagnosis\"].map({'B': 0, 'M': 1})\n",
    "X_train, X_test, y_train, y_test = train_test_split(X, y, test_size=0.33, random_state=8)"
   ]
  },
  {
   "cell_type": "code",
   "execution_count": 3,
   "metadata": {},
   "outputs": [],
   "source": [
    "std= StandardScaler()"
   ]
  },
  {
   "cell_type": "code",
   "execution_count": 4,
   "metadata": {},
   "outputs": [],
   "source": [
    "sc = StandardScaler()\n",
    "X_train = sc.fit_transform(X_train)\n",
    "X_test = sc.transform (X_test)"
   ]
  },
  {
   "cell_type": "code",
   "execution_count": 5,
   "metadata": {},
   "outputs": [],
   "source": [
    "X_train=pd.DataFrame(X_train)\n",
    "X_test=pd.DataFrame(X_test)"
   ]
  },
  {
   "cell_type": "markdown",
   "metadata": {},
   "source": [
    "### HyperTune"
   ]
  },
  {
   "cell_type": "code",
   "execution_count": 9,
   "metadata": {
    "scrolled": false
   },
   "outputs": [
    {
     "name": "stderr",
     "output_type": "stream",
     "text": [
      "\u001b[32m[I 2022-08-29 18:11:12,627]\u001b[0m A new study created in memory with name: no-name-fb646189-8bde-4cbd-9185-e770f074c1c8\u001b[0m\n",
      "\u001b[32m[I 2022-08-29 18:11:15,343]\u001b[0m Trial 0 finished with value: 0.9966293487420248 and parameters: {'criterion': 'gini', 'max_depth': 23, 'max_features': 'log2', 'max_leaf_nodes': 17, 'n_estimators': 617}. Best is trial 0 with value: 0.9966293487420248.\u001b[0m\n"
     ]
    },
    {
     "name": "stdout",
     "output_type": "stream",
     "text": [
      "AUC SCORE: 0.9966293487420248\n"
     ]
    },
    {
     "name": "stderr",
     "output_type": "stream",
     "text": [
      "\u001b[32m[I 2022-08-29 18:11:16,497]\u001b[0m Trial 1 finished with value: 0.9947032623088962 and parameters: {'criterion': 'gini', 'max_depth': 15, 'max_features': 'auto', 'max_leaf_nodes': 24, 'n_estimators': 144}. Best is trial 0 with value: 0.9966293487420248.\u001b[0m\n"
     ]
    },
    {
     "name": "stdout",
     "output_type": "stream",
     "text": [
      "AUC SCORE: 0.9947032623088962\n"
     ]
    },
    {
     "name": "stderr",
     "output_type": "stream",
     "text": [
      "\u001b[32m[I 2022-08-29 18:11:18,963]\u001b[0m Trial 2 finished with value: 0.9965089683399543 and parameters: {'criterion': 'gini', 'max_depth': 50, 'max_features': 'log2', 'max_leaf_nodes': 49, 'n_estimators': 574}. Best is trial 0 with value: 0.9966293487420248.\u001b[0m\n"
     ]
    },
    {
     "name": "stdout",
     "output_type": "stream",
     "text": [
      "AUC SCORE: 0.9965089683399543\n"
     ]
    },
    {
     "name": "stderr",
     "output_type": "stream",
     "text": [
      "\u001b[32m[I 2022-08-29 18:11:22,199]\u001b[0m Trial 3 finished with value: 0.996870109546166 and parameters: {'criterion': 'gini', 'max_depth': 42, 'max_features': 'sqrt', 'max_leaf_nodes': 45, 'n_estimators': 780}. Best is trial 3 with value: 0.996870109546166.\u001b[0m\n"
     ]
    },
    {
     "name": "stdout",
     "output_type": "stream",
     "text": [
      "AUC SCORE: 0.996870109546166\n"
     ]
    },
    {
     "name": "stderr",
     "output_type": "stream",
     "text": [
      "\u001b[32m[I 2022-08-29 18:11:23,414]\u001b[0m Trial 4 finished with value: 0.9968701095461658 and parameters: {'criterion': 'entropy', 'max_depth': 46, 'max_features': 'log2', 'max_leaf_nodes': 44, 'n_estimators': 146}. Best is trial 3 with value: 0.996870109546166.\u001b[0m\n"
     ]
    },
    {
     "name": "stdout",
     "output_type": "stream",
     "text": [
      "AUC SCORE: 0.9968701095461658\n"
     ]
    },
    {
     "name": "stderr",
     "output_type": "stream",
     "text": [
      "\u001b[32m[I 2022-08-29 18:11:25,683]\u001b[0m Trial 5 finished with value: 0.9965089683399543 and parameters: {'criterion': 'gini', 'max_depth': 28, 'max_features': 'log2', 'max_leaf_nodes': 40, 'n_estimators': 607}. Best is trial 3 with value: 0.996870109546166.\u001b[0m\n"
     ]
    },
    {
     "name": "stdout",
     "output_type": "stream",
     "text": [
      "AUC SCORE: 0.9965089683399543\n"
     ]
    },
    {
     "name": "stderr",
     "output_type": "stream",
     "text": [
      "\u001b[32m[I 2022-08-29 18:11:29,048]\u001b[0m Trial 6 finished with value: 0.997351631154448 and parameters: {'criterion': 'entropy', 'max_depth': 48, 'max_features': 'sqrt', 'max_leaf_nodes': 29, 'n_estimators': 796}. Best is trial 6 with value: 0.997351631154448.\u001b[0m\n"
     ]
    },
    {
     "name": "stdout",
     "output_type": "stream",
     "text": [
      "AUC SCORE: 0.997351631154448\n"
     ]
    },
    {
     "name": "stderr",
     "output_type": "stream",
     "text": [
      "\u001b[32m[I 2022-08-29 18:11:30,591]\u001b[0m Trial 7 finished with value: 0.9962080173347778 and parameters: {'criterion': 'gini', 'max_depth': 27, 'max_features': 'sqrt', 'max_leaf_nodes': 31, 'n_estimators': 272}. Best is trial 6 with value: 0.997351631154448.\u001b[0m\n"
     ]
    },
    {
     "name": "stdout",
     "output_type": "stream",
     "text": [
      "AUC SCORE: 0.9962080173347778\n"
     ]
    },
    {
     "name": "stderr",
     "output_type": "stream",
     "text": [
      "\u001b[32m[I 2022-08-29 18:11:34,240]\u001b[0m Trial 8 finished with value: 0.9950644035151077 and parameters: {'criterion': 'entropy', 'max_depth': 16, 'max_features': 'sqrt', 'max_leaf_nodes': 5, 'n_estimators': 888}. Best is trial 6 with value: 0.997351631154448.\u001b[0m\n"
     ]
    },
    {
     "name": "stdout",
     "output_type": "stream",
     "text": [
      "AUC SCORE: 0.9950644035151077\n"
     ]
    },
    {
     "name": "stderr",
     "output_type": "stream",
     "text": [
      "\u001b[32m[I 2022-08-29 18:11:35,517]\u001b[0m Trial 9 finished with value: 0.9966895389430601 and parameters: {'criterion': 'entropy', 'max_depth': 42, 'max_features': 'log2', 'max_leaf_nodes': 36, 'n_estimators': 205}. Best is trial 6 with value: 0.997351631154448.\u001b[0m\n"
     ]
    },
    {
     "name": "stdout",
     "output_type": "stream",
     "text": [
      "AUC SCORE: 0.9966895389430601\n"
     ]
    },
    {
     "name": "stderr",
     "output_type": "stream",
     "text": [
      "\u001b[32m[I 2022-08-29 18:11:39,240]\u001b[0m Trial 10 finished with value: 0.9930179366799085 and parameters: {'criterion': 'entropy', 'max_depth': 2, 'max_features': 'auto', 'max_leaf_nodes': 18, 'n_estimators': 976}. Best is trial 6 with value: 0.997351631154448.\u001b[0m\n"
     ]
    },
    {
     "name": "stdout",
     "output_type": "stream",
     "text": [
      "AUC SCORE: 0.9930179366799085\n"
     ]
    },
    {
     "name": "stderr",
     "output_type": "stream",
     "text": [
      "\u001b[32m[I 2022-08-29 18:11:42,589]\u001b[0m Trial 11 finished with value: 0.9969904899482364 and parameters: {'criterion': 'entropy', 'max_depth': 38, 'max_features': 'sqrt', 'max_leaf_nodes': 32, 'n_estimators': 791}. Best is trial 6 with value: 0.997351631154448.\u001b[0m\n"
     ]
    },
    {
     "name": "stdout",
     "output_type": "stream",
     "text": [
      "AUC SCORE: 0.9969904899482364\n"
     ]
    },
    {
     "name": "stderr",
     "output_type": "stream",
     "text": [
      "\u001b[32m[I 2022-08-29 18:11:45,925]\u001b[0m Trial 12 finished with value: 0.9969904899482365 and parameters: {'criterion': 'entropy', 'max_depth': 36, 'max_features': 'sqrt', 'max_leaf_nodes': 27, 'n_estimators': 777}. Best is trial 6 with value: 0.997351631154448.\u001b[0m\n"
     ]
    },
    {
     "name": "stdout",
     "output_type": "stream",
     "text": [
      "AUC SCORE: 0.9969904899482365\n"
     ]
    },
    {
     "name": "stderr",
     "output_type": "stream",
     "text": [
      "\u001b[32m[I 2022-08-29 18:11:47,996]\u001b[0m Trial 13 finished with value: 0.9972312507523775 and parameters: {'criterion': 'entropy', 'max_depth': 35, 'max_features': 'sqrt', 'max_leaf_nodes': 22, 'n_estimators': 384}. Best is trial 6 with value: 0.997351631154448.\u001b[0m\n"
     ]
    },
    {
     "name": "stdout",
     "output_type": "stream",
     "text": [
      "AUC SCORE: 0.9972312507523775\n"
     ]
    },
    {
     "name": "stderr",
     "output_type": "stream",
     "text": [
      "\u001b[32m[I 2022-08-29 18:11:50,133]\u001b[0m Trial 14 finished with value: 0.9961478271337427 and parameters: {'criterion': 'entropy', 'max_depth': 32, 'max_features': 'sqrt', 'max_leaf_nodes': 9, 'n_estimators': 420}. Best is trial 6 with value: 0.997351631154448.\u001b[0m\n"
     ]
    },
    {
     "name": "stdout",
     "output_type": "stream",
     "text": [
      "AUC SCORE: 0.9961478271337427\n"
     ]
    },
    {
     "name": "stderr",
     "output_type": "stream",
     "text": [
      "\u001b[32m[I 2022-08-29 18:11:52,228]\u001b[0m Trial 15 finished with value: 0.9974720115565187 and parameters: {'criterion': 'entropy', 'max_depth': 50, 'max_features': 'sqrt', 'max_leaf_nodes': 19, 'n_estimators': 369}. Best is trial 15 with value: 0.9974720115565187.\u001b[0m\n"
     ]
    },
    {
     "name": "stdout",
     "output_type": "stream",
     "text": [
      "AUC SCORE: 0.9974720115565187\n"
     ]
    },
    {
     "name": "stderr",
     "output_type": "stream",
     "text": [
      "\u001b[32m[I 2022-08-29 18:11:54,347]\u001b[0m Trial 16 finished with value: 0.9967497291440953 and parameters: {'criterion': 'entropy', 'max_depth': 50, 'max_features': 'sqrt', 'max_leaf_nodes': 14, 'n_estimators': 461}. Best is trial 15 with value: 0.9974720115565187.\u001b[0m\n"
     ]
    },
    {
     "name": "stdout",
     "output_type": "stream",
     "text": [
      "AUC SCORE: 0.9967497291440953\n"
     ]
    },
    {
     "name": "stderr",
     "output_type": "stream",
     "text": [
      "\u001b[32m[I 2022-08-29 18:11:55,197]\u001b[0m Trial 17 finished with value: 0.996027446731672 and parameters: {'criterion': 'entropy', 'max_depth': 44, 'max_features': 'auto', 'max_leaf_nodes': 10, 'n_estimators': 39}. Best is trial 15 with value: 0.9974720115565187.\u001b[0m\n"
     ]
    },
    {
     "name": "stdout",
     "output_type": "stream",
     "text": [
      "AUC SCORE: 0.996027446731672\n"
     ]
    },
    {
     "name": "stderr",
     "output_type": "stream",
     "text": [
      "\u001b[32m[I 2022-08-29 18:11:57,114]\u001b[0m Trial 18 finished with value: 0.9969302997472012 and parameters: {'criterion': 'entropy', 'max_depth': 19, 'max_features': 'sqrt', 'max_leaf_nodes': 29, 'n_estimators': 338}. Best is trial 15 with value: 0.9974720115565187.\u001b[0m\n"
     ]
    },
    {
     "name": "stdout",
     "output_type": "stream",
     "text": [
      "AUC SCORE: 0.9969302997472012\n"
     ]
    },
    {
     "name": "stderr",
     "output_type": "stream",
     "text": [
      "\u001b[32m[I 2022-08-29 18:12:00,084]\u001b[0m Trial 19 finished with value: 0.997110870350307 and parameters: {'criterion': 'entropy', 'max_depth': 50, 'max_features': 'sqrt', 'max_leaf_nodes': 20, 'n_estimators': 667}. Best is trial 15 with value: 0.9974720115565187.\u001b[0m\n"
     ]
    },
    {
     "name": "stdout",
     "output_type": "stream",
     "text": [
      "AUC SCORE: 0.997110870350307\n"
     ]
    },
    {
     "name": "stderr",
     "output_type": "stream",
     "text": [
      "\u001b[32m[I 2022-08-29 18:12:02,359]\u001b[0m Trial 20 finished with value: 0.9926567954736969 and parameters: {'criterion': 'entropy', 'max_depth': 5, 'max_features': 'auto', 'max_leaf_nodes': 2, 'n_estimators': 512}. Best is trial 15 with value: 0.9974720115565187.\u001b[0m\n"
     ]
    },
    {
     "name": "stdout",
     "output_type": "stream",
     "text": [
      "AUC SCORE: 0.9926567954736969\n"
     ]
    },
    {
     "name": "stderr",
     "output_type": "stream",
     "text": [
      "\u001b[32m[I 2022-08-29 18:12:04,274]\u001b[0m Trial 21 finished with value: 0.9977127723606598 and parameters: {'criterion': 'entropy', 'max_depth': 36, 'max_features': 'sqrt', 'max_leaf_nodes': 23, 'n_estimators': 376}. Best is trial 21 with value: 0.9977127723606598.\u001b[0m\n"
     ]
    },
    {
     "name": "stdout",
     "output_type": "stream",
     "text": [
      "AUC SCORE: 0.9977127723606598\n"
     ]
    },
    {
     "name": "stderr",
     "output_type": "stream",
     "text": [
      "\u001b[32m[I 2022-08-29 18:12:06,054]\u001b[0m Trial 22 finished with value: 0.9968099193451306 and parameters: {'criterion': 'entropy', 'max_depth': 40, 'max_features': 'sqrt', 'max_leaf_nodes': 24, 'n_estimators': 300}. Best is trial 21 with value: 0.9977127723606598.\u001b[0m\n"
     ]
    },
    {
     "name": "stdout",
     "output_type": "stream",
     "text": [
      "AUC SCORE: 0.9968099193451306\n"
     ]
    },
    {
     "name": "stderr",
     "output_type": "stream",
     "text": [
      "\u001b[32m[I 2022-08-29 18:12:08,335]\u001b[0m Trial 23 finished with value: 0.996870109546166 and parameters: {'criterion': 'entropy', 'max_depth': 46, 'max_features': 'sqrt', 'max_leaf_nodes': 14, 'n_estimators': 497}. Best is trial 21 with value: 0.9977127723606598.\u001b[0m\n"
     ]
    },
    {
     "name": "stdout",
     "output_type": "stream",
     "text": [
      "AUC SCORE: 0.996870109546166\n"
     ]
    },
    {
     "name": "stderr",
     "output_type": "stream",
     "text": [
      "\u001b[32m[I 2022-08-29 18:12:11,498]\u001b[0m Trial 24 finished with value: 0.9969904899482365 and parameters: {'criterion': 'entropy', 'max_depth': 33, 'max_features': 'sqrt', 'max_leaf_nodes': 35, 'n_estimators': 689}. Best is trial 21 with value: 0.9977127723606598.\u001b[0m\n"
     ]
    },
    {
     "name": "stdout",
     "output_type": "stream",
     "text": [
      "AUC SCORE: 0.9969904899482365\n"
     ]
    },
    {
     "name": "stderr",
     "output_type": "stream",
     "text": [
      "\u001b[32m[I 2022-08-29 18:12:13,584]\u001b[0m Trial 25 finished with value: 0.9972312507523774 and parameters: {'criterion': 'entropy', 'max_depth': 45, 'max_features': 'sqrt', 'max_leaf_nodes': 26, 'n_estimators': 386}. Best is trial 21 with value: 0.9977127723606598.\u001b[0m\n"
     ]
    },
    {
     "name": "stdout",
     "output_type": "stream",
     "text": [
      "AUC SCORE: 0.9972312507523774\n"
     ]
    },
    {
     "name": "stderr",
     "output_type": "stream",
     "text": [
      "\u001b[32m[I 2022-08-29 18:12:15,041]\u001b[0m Trial 26 finished with value: 0.9972312507523775 and parameters: {'criterion': 'entropy', 'max_depth': 39, 'max_features': 'sqrt', 'max_leaf_nodes': 34, 'n_estimators': 235}. Best is trial 21 with value: 0.9977127723606598.\u001b[0m\n"
     ]
    },
    {
     "name": "stdout",
     "output_type": "stream",
     "text": [
      "AUC SCORE: 0.9972312507523775\n"
     ]
    },
    {
     "name": "stderr",
     "output_type": "stream",
     "text": [
      "\u001b[32m[I 2022-08-29 18:12:18,809]\u001b[0m Trial 27 finished with value: 0.996870109546166 and parameters: {'criterion': 'entropy', 'max_depth': 31, 'max_features': 'sqrt', 'max_leaf_nodes': 16, 'n_estimators': 999}. Best is trial 21 with value: 0.9977127723606598.\u001b[0m\n"
     ]
    },
    {
     "name": "stdout",
     "output_type": "stream",
     "text": [
      "AUC SCORE: 0.996870109546166\n"
     ]
    },
    {
     "name": "stderr",
     "output_type": "stream",
     "text": [
      "\u001b[32m[I 2022-08-29 18:12:21,234]\u001b[0m Trial 28 finished with value: 0.9972312507523775 and parameters: {'criterion': 'entropy', 'max_depth': 47, 'max_features': 'sqrt', 'max_leaf_nodes': 22, 'n_estimators': 544}. Best is trial 21 with value: 0.9977127723606598.\u001b[0m\n"
     ]
    },
    {
     "name": "stdout",
     "output_type": "stream",
     "text": [
      "AUC SCORE: 0.9972312507523775\n"
     ]
    },
    {
     "name": "stderr",
     "output_type": "stream",
     "text": [
      "\u001b[32m[I 2022-08-29 18:12:24,263]\u001b[0m Trial 29 finished with value: 0.9966293487420249 and parameters: {'criterion': 'gini', 'max_depth': 21, 'max_features': 'auto', 'max_leaf_nodes': 19, 'n_estimators': 691}. Best is trial 21 with value: 0.9977127723606598.\u001b[0m\n"
     ]
    },
    {
     "name": "stdout",
     "output_type": "stream",
     "text": [
      "AUC SCORE: 0.9966293487420249\n"
     ]
    },
    {
     "name": "stderr",
     "output_type": "stream",
     "text": [
      "\u001b[32m[I 2022-08-29 18:12:27,856]\u001b[0m Trial 30 finished with value: 0.9962682075358132 and parameters: {'criterion': 'entropy', 'max_depth': 9, 'max_features': 'log2', 'max_leaf_nodes': 10, 'n_estimators': 876}. Best is trial 21 with value: 0.9977127723606598.\u001b[0m\n"
     ]
    },
    {
     "name": "stdout",
     "output_type": "stream",
     "text": [
      "AUC SCORE: 0.9962682075358132\n"
     ]
    },
    {
     "name": "stderr",
     "output_type": "stream",
     "text": [
      "\u001b[32m[I 2022-08-29 18:12:30,402]\u001b[0m Trial 31 finished with value: 0.9968099193451306 and parameters: {'criterion': 'entropy', 'max_depth': 47, 'max_features': 'sqrt', 'max_leaf_nodes': 22, 'n_estimators': 540}. Best is trial 21 with value: 0.9977127723606598.\u001b[0m\n"
     ]
    },
    {
     "name": "stdout",
     "output_type": "stream",
     "text": [
      "AUC SCORE: 0.9968099193451306\n"
     ]
    },
    {
     "name": "stderr",
     "output_type": "stream",
     "text": [
      "\u001b[32m[I 2022-08-29 18:12:32,672]\u001b[0m Trial 32 finished with value: 0.9968701095461658 and parameters: {'criterion': 'entropy', 'max_depth': 42, 'max_features': 'sqrt', 'max_leaf_nodes': 27, 'n_estimators': 454}. Best is trial 21 with value: 0.9977127723606598.\u001b[0m\n"
     ]
    },
    {
     "name": "stdout",
     "output_type": "stream",
     "text": [
      "AUC SCORE: 0.9968701095461658\n"
     ]
    },
    {
     "name": "stderr",
     "output_type": "stream",
     "text": [
      "\u001b[32m[I 2022-08-29 18:12:34,584]\u001b[0m Trial 33 finished with value: 0.9969904899482365 and parameters: {'criterion': 'entropy', 'max_depth': 48, 'max_features': 'sqrt', 'max_leaf_nodes': 24, 'n_estimators': 342}. Best is trial 21 with value: 0.9977127723606598.\u001b[0m\n"
     ]
    },
    {
     "name": "stdout",
     "output_type": "stream",
     "text": [
      "AUC SCORE: 0.9969904899482365\n"
     ]
    },
    {
     "name": "stderr",
     "output_type": "stream",
     "text": [
      "\u001b[32m[I 2022-08-29 18:12:37,123]\u001b[0m Trial 34 finished with value: 0.9968701095461658 and parameters: {'criterion': 'gini', 'max_depth': 43, 'max_features': 'sqrt', 'max_leaf_nodes': 21, 'n_estimators': 587}. Best is trial 21 with value: 0.9977127723606598.\u001b[0m\n"
     ]
    },
    {
     "name": "stdout",
     "output_type": "stream",
     "text": [
      "AUC SCORE: 0.9968701095461658\n"
     ]
    },
    {
     "name": "stderr",
     "output_type": "stream",
     "text": [
      "\u001b[32m[I 2022-08-29 18:12:38,421]\u001b[0m Trial 35 finished with value: 0.9966293487420249 and parameters: {'criterion': 'entropy', 'max_depth': 48, 'max_features': 'sqrt', 'max_leaf_nodes': 16, 'n_estimators': 190}. Best is trial 21 with value: 0.9977127723606598.\u001b[0m\n"
     ]
    },
    {
     "name": "stdout",
     "output_type": "stream",
     "text": [
      "AUC SCORE: 0.9966293487420249\n"
     ]
    },
    {
     "name": "stderr",
     "output_type": "stream",
     "text": [
      "\u001b[32m[I 2022-08-29 18:12:39,761]\u001b[0m Trial 36 finished with value: 0.9962080173347779 and parameters: {'criterion': 'gini', 'max_depth': 39, 'max_features': 'log2', 'max_leaf_nodes': 37, 'n_estimators': 214}. Best is trial 21 with value: 0.9977127723606598.\u001b[0m\n"
     ]
    },
    {
     "name": "stdout",
     "output_type": "stream",
     "text": [
      "AUC SCORE: 0.9962080173347779\n"
     ]
    },
    {
     "name": "stderr",
     "output_type": "stream",
     "text": [
      "\u001b[32m[I 2022-08-29 18:12:40,801]\u001b[0m Trial 37 finished with value: 0.9970506801492718 and parameters: {'criterion': 'entropy', 'max_depth': 24, 'max_features': 'sqrt', 'max_leaf_nodes': 40, 'n_estimators': 79}. Best is trial 21 with value: 0.9977127723606598.\u001b[0m\n"
     ]
    },
    {
     "name": "stdout",
     "output_type": "stream",
     "text": [
      "AUC SCORE: 0.9970506801492718\n"
     ]
    },
    {
     "name": "stderr",
     "output_type": "stream",
     "text": [
      "\u001b[32m[I 2022-08-29 18:12:42,369]\u001b[0m Trial 38 finished with value: 0.9968701095461658 and parameters: {'criterion': 'gini', 'max_depth': 29, 'max_features': 'auto', 'max_leaf_nodes': 29, 'n_estimators': 293}. Best is trial 21 with value: 0.9977127723606598.\u001b[0m\n"
     ]
    },
    {
     "name": "stdout",
     "output_type": "stream",
     "text": [
      "AUC SCORE: 0.9968701095461658\n"
     ]
    },
    {
     "name": "stderr",
     "output_type": "stream",
     "text": [
      "\u001b[32m[I 2022-08-29 18:12:44,482]\u001b[0m Trial 39 finished with value: 0.9968701095461658 and parameters: {'criterion': 'entropy', 'max_depth': 35, 'max_features': 'log2', 'max_leaf_nodes': 30, 'n_estimators': 379}. Best is trial 21 with value: 0.9977127723606598.\u001b[0m\n"
     ]
    },
    {
     "name": "stdout",
     "output_type": "stream",
     "text": [
      "AUC SCORE: 0.9968701095461658\n"
     ]
    },
    {
     "name": "stderr",
     "output_type": "stream",
     "text": [
      "\u001b[32m[I 2022-08-29 18:12:45,901]\u001b[0m Trial 40 finished with value: 0.9965691585409896 and parameters: {'criterion': 'entropy', 'max_depth': 40, 'max_features': 'sqrt', 'max_leaf_nodes': 33, 'n_estimators': 246}. Best is trial 21 with value: 0.9977127723606598.\u001b[0m\n"
     ]
    },
    {
     "name": "stdout",
     "output_type": "stream",
     "text": [
      "AUC SCORE: 0.9965691585409896\n"
     ]
    },
    {
     "name": "stderr",
     "output_type": "stream",
     "text": [
      "\u001b[32m[I 2022-08-29 18:12:47,807]\u001b[0m Trial 41 finished with value: 0.9969904899482365 and parameters: {'criterion': 'entropy', 'max_depth': 35, 'max_features': 'sqrt', 'max_leaf_nodes': 25, 'n_estimators': 331}. Best is trial 21 with value: 0.9977127723606598.\u001b[0m\n"
     ]
    },
    {
     "name": "stdout",
     "output_type": "stream",
     "text": [
      "AUC SCORE: 0.9969904899482365\n"
     ]
    },
    {
     "name": "stderr",
     "output_type": "stream",
     "text": [
      "\u001b[32m[I 2022-08-29 18:12:49,090]\u001b[0m Trial 42 finished with value: 0.9967497291440953 and parameters: {'criterion': 'entropy', 'max_depth': 45, 'max_features': 'sqrt', 'max_leaf_nodes': 40, 'n_estimators': 152}. Best is trial 21 with value: 0.9977127723606598.\u001b[0m\n"
     ]
    },
    {
     "name": "stdout",
     "output_type": "stream",
     "text": [
      "AUC SCORE: 0.9967497291440953\n"
     ]
    },
    {
     "name": "stderr",
     "output_type": "stream",
     "text": [
      "\u001b[32m[I 2022-08-29 18:12:51,828]\u001b[0m Trial 43 finished with value: 0.9975923919585891 and parameters: {'criterion': 'entropy', 'max_depth': 48, 'max_features': 'sqrt', 'max_leaf_nodes': 48, 'n_estimators': 646}. Best is trial 21 with value: 0.9977127723606598.\u001b[0m\n"
     ]
    },
    {
     "name": "stdout",
     "output_type": "stream",
     "text": [
      "AUC SCORE: 0.9975923919585891\n"
     ]
    },
    {
     "name": "stderr",
     "output_type": "stream",
     "text": [
      "\u001b[32m[I 2022-08-29 18:12:55,208]\u001b[0m Trial 44 finished with value: 0.9969904899482365 and parameters: {'criterion': 'entropy', 'max_depth': 50, 'max_features': 'sqrt', 'max_leaf_nodes': 47, 'n_estimators': 817}. Best is trial 21 with value: 0.9977127723606598.\u001b[0m\n"
     ]
    },
    {
     "name": "stdout",
     "output_type": "stream",
     "text": [
      "AUC SCORE: 0.9969904899482365\n"
     ]
    },
    {
     "name": "stderr",
     "output_type": "stream",
     "text": [
      "\u001b[32m[I 2022-08-29 18:12:58,383]\u001b[0m Trial 45 finished with value: 0.9969904899482364 and parameters: {'criterion': 'entropy', 'max_depth': 38, 'max_features': 'sqrt', 'max_leaf_nodes': 45, 'n_estimators': 740}. Best is trial 21 with value: 0.9977127723606598.\u001b[0m\n"
     ]
    },
    {
     "name": "stdout",
     "output_type": "stream",
     "text": [
      "AUC SCORE: 0.9969904899482364\n"
     ]
    },
    {
     "name": "stderr",
     "output_type": "stream",
     "text": [
      "\u001b[32m[I 2022-08-29 18:13:01,040]\u001b[0m Trial 46 finished with value: 0.9968701095461658 and parameters: {'criterion': 'gini', 'max_depth': 26, 'max_features': 'sqrt', 'max_leaf_nodes': 50, 'n_estimators': 621}. Best is trial 21 with value: 0.9977127723606598.\u001b[0m\n"
     ]
    },
    {
     "name": "stdout",
     "output_type": "stream",
     "text": [
      "AUC SCORE: 0.9968701095461658\n"
     ]
    },
    {
     "name": "stderr",
     "output_type": "stream",
     "text": [
      "\u001b[32m[I 2022-08-29 18:13:04,950]\u001b[0m Trial 47 finished with value: 0.9966293487420249 and parameters: {'criterion': 'entropy', 'max_depth': 44, 'max_features': 'log2', 'max_leaf_nodes': 39, 'n_estimators': 901}. Best is trial 21 with value: 0.9977127723606598.\u001b[0m\n"
     ]
    },
    {
     "name": "stdout",
     "output_type": "stream",
     "text": [
      "AUC SCORE: 0.9966293487420249\n"
     ]
    },
    {
     "name": "stderr",
     "output_type": "stream",
     "text": [
      "\u001b[32m[I 2022-08-29 18:13:07,738]\u001b[0m Trial 48 finished with value: 0.9968701095461658 and parameters: {'criterion': 'entropy', 'max_depth': 37, 'max_features': 'sqrt', 'max_leaf_nodes': 42, 'n_estimators': 640}. Best is trial 21 with value: 0.9977127723606598.\u001b[0m\n"
     ]
    },
    {
     "name": "stdout",
     "output_type": "stream",
     "text": [
      "AUC SCORE: 0.9968701095461658\n"
     ]
    },
    {
     "name": "stderr",
     "output_type": "stream",
     "text": [
      "\u001b[32m[I 2022-08-29 18:13:10,277]\u001b[0m Trial 49 finished with value: 0.9969904899482365 and parameters: {'criterion': 'entropy', 'max_depth': 48, 'max_features': 'sqrt', 'max_leaf_nodes': 12, 'n_estimators': 569}. Best is trial 21 with value: 0.9977127723606598.\u001b[0m\n"
     ]
    },
    {
     "name": "stdout",
     "output_type": "stream",
     "text": [
      "AUC SCORE: 0.9969904899482365\n"
     ]
    },
    {
     "name": "stderr",
     "output_type": "stream",
     "text": [
      "\u001b[32m[I 2022-08-29 18:13:12,495]\u001b[0m Trial 50 finished with value: 0.9975322017575539 and parameters: {'criterion': 'entropy', 'max_depth': 41, 'max_features': 'auto', 'max_leaf_nodes': 23, 'n_estimators': 453}. Best is trial 21 with value: 0.9977127723606598.\u001b[0m\n"
     ]
    },
    {
     "name": "stdout",
     "output_type": "stream",
     "text": [
      "AUC SCORE: 0.9975322017575539\n"
     ]
    },
    {
     "name": "stderr",
     "output_type": "stream",
     "text": [
      "\u001b[32m[I 2022-08-29 18:13:14,717]\u001b[0m Trial 51 finished with value: 0.9975923919585891 and parameters: {'criterion': 'entropy', 'max_depth': 41, 'max_features': 'auto', 'max_leaf_nodes': 22, 'n_estimators': 443}. Best is trial 21 with value: 0.9977127723606598.\u001b[0m\n"
     ]
    },
    {
     "name": "stdout",
     "output_type": "stream",
     "text": [
      "AUC SCORE: 0.9975923919585891\n"
     ]
    },
    {
     "name": "stderr",
     "output_type": "stream",
     "text": [
      "\u001b[32m[I 2022-08-29 18:13:17,022]\u001b[0m Trial 52 finished with value: 0.9967497291440953 and parameters: {'criterion': 'entropy', 'max_depth': 41, 'max_features': 'auto', 'max_leaf_nodes': 23, 'n_estimators': 457}. Best is trial 21 with value: 0.9977127723606598.\u001b[0m\n"
     ]
    },
    {
     "name": "stdout",
     "output_type": "stream",
     "text": [
      "AUC SCORE: 0.9967497291440953\n"
     ]
    },
    {
     "name": "stderr",
     "output_type": "stream",
     "text": [
      "\u001b[32m[I 2022-08-29 18:13:19,311]\u001b[0m Trial 53 finished with value: 0.996870109546166 and parameters: {'criterion': 'entropy', 'max_depth': 43, 'max_features': 'auto', 'max_leaf_nodes': 17, 'n_estimators': 480}. Best is trial 21 with value: 0.9977127723606598.\u001b[0m\n"
     ]
    },
    {
     "name": "stdout",
     "output_type": "stream",
     "text": [
      "AUC SCORE: 0.996870109546166\n"
     ]
    },
    {
     "name": "stderr",
     "output_type": "stream",
     "text": [
      "\u001b[32m[I 2022-08-29 18:13:21,531]\u001b[0m Trial 54 finished with value: 0.9973516311544481 and parameters: {'criterion': 'entropy', 'max_depth': 49, 'max_features': 'auto', 'max_leaf_nodes': 18, 'n_estimators': 430}. Best is trial 21 with value: 0.9977127723606598.\u001b[0m\n"
     ]
    },
    {
     "name": "stdout",
     "output_type": "stream",
     "text": [
      "AUC SCORE: 0.9973516311544481\n"
     ]
    },
    {
     "name": "stderr",
     "output_type": "stream",
     "text": [
      "\u001b[32m[I 2022-08-29 18:13:23,610]\u001b[0m Trial 55 finished with value: 0.9971108703503069 and parameters: {'criterion': 'entropy', 'max_depth': 46, 'max_features': 'auto', 'max_leaf_nodes': 19, 'n_estimators': 421}. Best is trial 21 with value: 0.9977127723606598.\u001b[0m\n"
     ]
    },
    {
     "name": "stdout",
     "output_type": "stream",
     "text": [
      "AUC SCORE: 0.9971108703503069\n"
     ]
    },
    {
     "name": "stderr",
     "output_type": "stream",
     "text": [
      "\u001b[32m[I 2022-08-29 18:13:25,589]\u001b[0m Trial 56 finished with value: 0.9967497291440953 and parameters: {'criterion': 'entropy', 'max_depth': 50, 'max_features': 'auto', 'max_leaf_nodes': 14, 'n_estimators': 362}. Best is trial 21 with value: 0.9977127723606598.\u001b[0m\n"
     ]
    },
    {
     "name": "stdout",
     "output_type": "stream",
     "text": [
      "AUC SCORE: 0.9967497291440953\n"
     ]
    },
    {
     "name": "stderr",
     "output_type": "stream",
     "text": [
      "\u001b[32m[I 2022-08-29 18:13:27,780]\u001b[0m Trial 57 finished with value: 0.9969904899482364 and parameters: {'criterion': 'entropy', 'max_depth': 41, 'max_features': 'auto', 'max_leaf_nodes': 20, 'n_estimators': 419}. Best is trial 21 with value: 0.9977127723606598.\u001b[0m\n"
     ]
    },
    {
     "name": "stdout",
     "output_type": "stream",
     "text": [
      "AUC SCORE: 0.9969904899482364\n"
     ]
    },
    {
     "name": "stderr",
     "output_type": "stream",
     "text": [
      "\u001b[32m[I 2022-08-29 18:13:29,827]\u001b[0m Trial 58 finished with value: 0.9973516311544481 and parameters: {'criterion': 'entropy', 'max_depth': 48, 'max_features': 'auto', 'max_leaf_nodes': 27, 'n_estimators': 423}. Best is trial 21 with value: 0.9977127723606598.\u001b[0m\n"
     ]
    },
    {
     "name": "stdout",
     "output_type": "stream",
     "text": [
      "AUC SCORE: 0.9973516311544481\n"
     ]
    },
    {
     "name": "stderr",
     "output_type": "stream",
     "text": [
      "\u001b[32m[I 2022-08-29 18:13:32,219]\u001b[0m Trial 59 finished with value: 0.9972312507523775 and parameters: {'criterion': 'entropy', 'max_depth': 44, 'max_features': 'auto', 'max_leaf_nodes': 27, 'n_estimators': 525}. Best is trial 21 with value: 0.9977127723606598.\u001b[0m\n"
     ]
    },
    {
     "name": "stdout",
     "output_type": "stream",
     "text": [
      "AUC SCORE: 0.9972312507523775\n"
     ]
    },
    {
     "name": "stderr",
     "output_type": "stream",
     "text": [
      "\u001b[32m[I 2022-08-29 18:13:33,983]\u001b[0m Trial 60 finished with value: 0.9968701095461658 and parameters: {'criterion': 'gini', 'max_depth': 33, 'max_features': 'auto', 'max_leaf_nodes': 31, 'n_estimators': 290}. Best is trial 21 with value: 0.9977127723606598.\u001b[0m\n"
     ]
    },
    {
     "name": "stdout",
     "output_type": "stream",
     "text": [
      "AUC SCORE: 0.9968701095461658\n"
     ]
    },
    {
     "name": "stderr",
     "output_type": "stream",
     "text": [
      "\u001b[32m[I 2022-08-29 18:13:36,010]\u001b[0m Trial 61 finished with value: 0.9968701095461658 and parameters: {'criterion': 'entropy', 'max_depth': 49, 'max_features': 'auto', 'max_leaf_nodes': 18, 'n_estimators': 410}. Best is trial 21 with value: 0.9977127723606598.\u001b[0m\n"
     ]
    },
    {
     "name": "stdout",
     "output_type": "stream",
     "text": [
      "AUC SCORE: 0.9968701095461658\n"
     ]
    },
    {
     "name": "stderr",
     "output_type": "stream",
     "text": [
      "\u001b[32m[I 2022-08-29 18:13:38,190]\u001b[0m Trial 62 finished with value: 0.9961478271337426 and parameters: {'criterion': 'entropy', 'max_depth': 46, 'max_features': 'auto', 'max_leaf_nodes': 7, 'n_estimators': 481}. Best is trial 21 with value: 0.9977127723606598.\u001b[0m\n"
     ]
    },
    {
     "name": "stdout",
     "output_type": "stream",
     "text": [
      "AUC SCORE: 0.9961478271337426\n"
     ]
    },
    {
     "name": "stderr",
     "output_type": "stream",
     "text": [
      "\u001b[32m[I 2022-08-29 18:13:40,306]\u001b[0m Trial 63 finished with value: 0.997351631154448 and parameters: {'criterion': 'entropy', 'max_depth': 45, 'max_features': 'auto', 'max_leaf_nodes': 16, 'n_estimators': 449}. Best is trial 21 with value: 0.9977127723606598.\u001b[0m\n"
     ]
    },
    {
     "name": "stdout",
     "output_type": "stream",
     "text": [
      "AUC SCORE: 0.997351631154448\n"
     ]
    },
    {
     "name": "stderr",
     "output_type": "stream",
     "text": [
      "\u001b[32m[I 2022-08-29 18:13:42,171]\u001b[0m Trial 64 finished with value: 0.9975322017575539 and parameters: {'criterion': 'entropy', 'max_depth': 47, 'max_features': 'auto', 'max_leaf_nodes': 21, 'n_estimators': 325}. Best is trial 21 with value: 0.9977127723606598.\u001b[0m\n"
     ]
    },
    {
     "name": "stdout",
     "output_type": "stream",
     "text": [
      "AUC SCORE: 0.9975322017575539\n"
     ]
    },
    {
     "name": "stderr",
     "output_type": "stream",
     "text": [
      "\u001b[32m[I 2022-08-29 18:13:44,106]\u001b[0m Trial 65 finished with value: 0.997110870350307 and parameters: {'criterion': 'entropy', 'max_depth': 43, 'max_features': 'auto', 'max_leaf_nodes': 24, 'n_estimators': 352}. Best is trial 21 with value: 0.9977127723606598.\u001b[0m\n"
     ]
    },
    {
     "name": "stdout",
     "output_type": "stream",
     "text": [
      "AUC SCORE: 0.997110870350307\n"
     ]
    },
    {
     "name": "stderr",
     "output_type": "stream",
     "text": [
      "\u001b[32m[I 2022-08-29 18:13:46,050]\u001b[0m Trial 66 finished with value: 0.9969904899482364 and parameters: {'criterion': 'entropy', 'max_depth': 47, 'max_features': 'auto', 'max_leaf_nodes': 21, 'n_estimators': 309}. Best is trial 21 with value: 0.9977127723606598.\u001b[0m\n"
     ]
    },
    {
     "name": "stdout",
     "output_type": "stream",
     "text": [
      "AUC SCORE: 0.9969904899482364\n"
     ]
    },
    {
     "name": "stderr",
     "output_type": "stream",
     "text": [
      "\u001b[32m[I 2022-08-29 18:13:47,518]\u001b[0m Trial 67 finished with value: 0.9972312507523775 and parameters: {'criterion': 'entropy', 'max_depth': 41, 'max_features': 'auto', 'max_leaf_nodes': 26, 'n_estimators': 259}. Best is trial 21 with value: 0.9977127723606598.\u001b[0m\n"
     ]
    },
    {
     "name": "stdout",
     "output_type": "stream",
     "text": [
      "AUC SCORE: 0.9972312507523775\n"
     ]
    },
    {
     "name": "stderr",
     "output_type": "stream",
     "text": [
      "\u001b[32m[I 2022-08-29 18:13:49,500]\u001b[0m Trial 68 finished with value: 0.9969302997472012 and parameters: {'criterion': 'entropy', 'max_depth': 38, 'max_features': 'auto', 'max_leaf_nodes': 23, 'n_estimators': 390}. Best is trial 21 with value: 0.9977127723606598.\u001b[0m\n"
     ]
    },
    {
     "name": "stdout",
     "output_type": "stream",
     "text": [
      "AUC SCORE: 0.9969302997472012\n"
     ]
    },
    {
     "name": "stderr",
     "output_type": "stream",
     "text": [
      "\u001b[32m[I 2022-08-29 18:13:51,941]\u001b[0m Trial 69 finished with value: 0.9963885879378838 and parameters: {'criterion': 'entropy', 'max_depth': 50, 'max_features': 'auto', 'max_leaf_nodes': 13, 'n_estimators': 565}. Best is trial 21 with value: 0.9977127723606598.\u001b[0m\n"
     ]
    },
    {
     "name": "stdout",
     "output_type": "stream",
     "text": [
      "AUC SCORE: 0.9963885879378838\n"
     ]
    },
    {
     "name": "stderr",
     "output_type": "stream",
     "text": [
      "\u001b[32m[I 2022-08-29 18:13:53,794]\u001b[0m Trial 70 finished with value: 0.9967497291440953 and parameters: {'criterion': 'entropy', 'max_depth': 48, 'max_features': 'auto', 'max_leaf_nodes': 20, 'n_estimators': 322}. Best is trial 21 with value: 0.9977127723606598.\u001b[0m\n"
     ]
    },
    {
     "name": "stdout",
     "output_type": "stream",
     "text": [
      "AUC SCORE: 0.9967497291440953\n"
     ]
    },
    {
     "name": "stderr",
     "output_type": "stream",
     "text": [
      "\u001b[32m[I 2022-08-29 18:13:56,015]\u001b[0m Trial 71 finished with value: 0.997110870350307 and parameters: {'criterion': 'entropy', 'max_depth': 46, 'max_features': 'auto', 'max_leaf_nodes': 17, 'n_estimators': 437}. Best is trial 21 with value: 0.9977127723606598.\u001b[0m\n"
     ]
    },
    {
     "name": "stdout",
     "output_type": "stream",
     "text": [
      "AUC SCORE: 0.997110870350307\n"
     ]
    },
    {
     "name": "stderr",
     "output_type": "stream",
     "text": [
      "\u001b[32m[I 2022-08-29 18:13:58,412]\u001b[0m Trial 72 finished with value: 0.9973516311544481 and parameters: {'criterion': 'entropy', 'max_depth': 48, 'max_features': 'auto', 'max_leaf_nodes': 28, 'n_estimators': 495}. Best is trial 21 with value: 0.9977127723606598.\u001b[0m\n"
     ]
    },
    {
     "name": "stdout",
     "output_type": "stream",
     "text": [
      "AUC SCORE: 0.9973516311544481\n"
     ]
    },
    {
     "name": "stderr",
     "output_type": "stream",
     "text": [
      "\u001b[32m[I 2022-08-29 18:14:00,793]\u001b[0m Trial 73 finished with value: 0.9974118213554833 and parameters: {'criterion': 'entropy', 'max_depth': 44, 'max_features': 'auto', 'max_leaf_nodes': 22, 'n_estimators': 502}. Best is trial 21 with value: 0.9977127723606598.\u001b[0m\n"
     ]
    },
    {
     "name": "stdout",
     "output_type": "stream",
     "text": [
      "AUC SCORE: 0.9974118213554833\n"
     ]
    },
    {
     "name": "stderr",
     "output_type": "stream",
     "text": [
      "\u001b[32m[I 2022-08-29 18:14:02,863]\u001b[0m Trial 74 finished with value: 0.9971710605513422 and parameters: {'criterion': 'entropy', 'max_depth': 42, 'max_features': 'auto', 'max_leaf_nodes': 22, 'n_estimators': 393}. Best is trial 21 with value: 0.9977127723606598.\u001b[0m\n"
     ]
    },
    {
     "name": "stdout",
     "output_type": "stream",
     "text": [
      "AUC SCORE: 0.9971710605513422\n"
     ]
    },
    {
     "name": "stderr",
     "output_type": "stream",
     "text": [
      "\u001b[32m[I 2022-08-29 18:14:05,240]\u001b[0m Trial 75 finished with value: 0.997110870350307 and parameters: {'criterion': 'entropy', 'max_depth': 44, 'max_features': 'auto', 'max_leaf_nodes': 24, 'n_estimators': 519}. Best is trial 21 with value: 0.9977127723606598.\u001b[0m\n"
     ]
    },
    {
     "name": "stdout",
     "output_type": "stream",
     "text": [
      "AUC SCORE: 0.997110870350307\n"
     ]
    },
    {
     "name": "stderr",
     "output_type": "stream",
     "text": [
      "\u001b[32m[I 2022-08-29 18:14:07,632]\u001b[0m Trial 76 finished with value: 0.9965089683399543 and parameters: {'criterion': 'entropy', 'max_depth': 40, 'max_features': 'log2', 'max_leaf_nodes': 21, 'n_estimators': 492}. Best is trial 21 with value: 0.9977127723606598.\u001b[0m\n"
     ]
    },
    {
     "name": "stdout",
     "output_type": "stream",
     "text": [
      "AUC SCORE: 0.9965089683399543\n"
     ]
    },
    {
     "name": "stderr",
     "output_type": "stream",
     "text": [
      "\u001b[32m[I 2022-08-29 18:14:09,666]\u001b[0m Trial 77 finished with value: 0.9965089683399543 and parameters: {'criterion': 'gini', 'max_depth': 12, 'max_features': 'auto', 'max_leaf_nodes': 26, 'n_estimators': 364}. Best is trial 21 with value: 0.9977127723606598.\u001b[0m\n"
     ]
    },
    {
     "name": "stdout",
     "output_type": "stream",
     "text": [
      "AUC SCORE: 0.9965089683399543\n"
     ]
    },
    {
     "name": "stderr",
     "output_type": "stream",
     "text": [
      "\u001b[32m[I 2022-08-29 18:14:12,296]\u001b[0m Trial 78 finished with value: 0.9969904899482365 and parameters: {'criterion': 'entropy', 'max_depth': 45, 'max_features': 'auto', 'max_leaf_nodes': 19, 'n_estimators': 597}. Best is trial 21 with value: 0.9977127723606598.\u001b[0m\n"
     ]
    },
    {
     "name": "stdout",
     "output_type": "stream",
     "text": [
      "AUC SCORE: 0.9969904899482365\n"
     ]
    },
    {
     "name": "stderr",
     "output_type": "stream",
     "text": [
      "\u001b[32m[I 2022-08-29 18:14:14,490]\u001b[0m Trial 79 finished with value: 0.9971108703503069 and parameters: {'criterion': 'entropy', 'max_depth': 36, 'max_features': 'auto', 'max_leaf_nodes': 18, 'n_estimators': 474}. Best is trial 21 with value: 0.9977127723606598.\u001b[0m\n"
     ]
    },
    {
     "name": "stdout",
     "output_type": "stream",
     "text": [
      "AUC SCORE: 0.9971108703503069\n"
     ]
    },
    {
     "name": "stderr",
     "output_type": "stream",
     "text": [
      "\u001b[32m[I 2022-08-29 18:14:16,977]\u001b[0m Trial 80 finished with value: 0.9969904899482364 and parameters: {'criterion': 'entropy', 'max_depth': 43, 'max_features': 'log2', 'max_leaf_nodes': 48, 'n_estimators': 542}. Best is trial 21 with value: 0.9977127723606598.\u001b[0m\n"
     ]
    },
    {
     "name": "stdout",
     "output_type": "stream",
     "text": [
      "AUC SCORE: 0.9969904899482364\n"
     ]
    },
    {
     "name": "stderr",
     "output_type": "stream",
     "text": [
      "\u001b[32m[I 2022-08-29 18:14:19,336]\u001b[0m Trial 81 finished with value: 0.9972312507523775 and parameters: {'criterion': 'entropy', 'max_depth': 48, 'max_features': 'auto', 'max_leaf_nodes': 28, 'n_estimators': 507}. Best is trial 21 with value: 0.9977127723606598.\u001b[0m\n"
     ]
    },
    {
     "name": "stdout",
     "output_type": "stream",
     "text": [
      "AUC SCORE: 0.9972312507523775\n"
     ]
    },
    {
     "name": "stderr",
     "output_type": "stream",
     "text": [
      "\u001b[32m[I 2022-08-29 18:14:21,446]\u001b[0m Trial 82 finished with value: 0.9969904899482365 and parameters: {'criterion': 'entropy', 'max_depth': 49, 'max_features': 'auto', 'max_leaf_nodes': 23, 'n_estimators': 430}. Best is trial 21 with value: 0.9977127723606598.\u001b[0m\n"
     ]
    },
    {
     "name": "stdout",
     "output_type": "stream",
     "text": [
      "AUC SCORE: 0.9969904899482365\n"
     ]
    },
    {
     "name": "stderr",
     "output_type": "stream",
     "text": [
      "\u001b[32m[I 2022-08-29 18:14:23,457]\u001b[0m Trial 83 finished with value: 0.9968701095461658 and parameters: {'criterion': 'entropy', 'max_depth': 49, 'max_features': 'auto', 'max_leaf_nodes': 15, 'n_estimators': 400}. Best is trial 21 with value: 0.9977127723606598.\u001b[0m\n"
     ]
    },
    {
     "name": "stdout",
     "output_type": "stream",
     "text": [
      "AUC SCORE: 0.9968701095461658\n"
     ]
    },
    {
     "name": "stderr",
     "output_type": "stream",
     "text": [
      "\u001b[32m[I 2022-08-29 18:14:25,450]\u001b[0m Trial 84 finished with value: 0.9967497291440952 and parameters: {'criterion': 'entropy', 'max_depth': 45, 'max_features': 'auto', 'max_leaf_nodes': 25, 'n_estimators': 361}. Best is trial 21 with value: 0.9977127723606598.\u001b[0m\n"
     ]
    },
    {
     "name": "stdout",
     "output_type": "stream",
     "text": [
      "AUC SCORE: 0.9967497291440952\n"
     ]
    },
    {
     "name": "stderr",
     "output_type": "stream",
     "text": [
      "\u001b[32m[I 2022-08-29 18:14:27,206]\u001b[0m Trial 85 finished with value: 0.9972914409534128 and parameters: {'criterion': 'entropy', 'max_depth': 46, 'max_features': 'sqrt', 'max_leaf_nodes': 28, 'n_estimators': 276}. Best is trial 21 with value: 0.9977127723606598.\u001b[0m\n"
     ]
    },
    {
     "name": "stdout",
     "output_type": "stream",
     "text": [
      "AUC SCORE: 0.9972914409534128\n"
     ]
    },
    {
     "name": "stderr",
     "output_type": "stream",
     "text": [
      "\u001b[32m[I 2022-08-29 18:14:29,448]\u001b[0m Trial 86 finished with value: 0.9969904899482365 and parameters: {'criterion': 'entropy', 'max_depth': 47, 'max_features': 'auto', 'max_leaf_nodes': 20, 'n_estimators': 447}. Best is trial 21 with value: 0.9977127723606598.\u001b[0m\n"
     ]
    },
    {
     "name": "stdout",
     "output_type": "stream",
     "text": [
      "AUC SCORE: 0.9969904899482365\n"
     ]
    },
    {
     "name": "stderr",
     "output_type": "stream",
     "text": [
      "\u001b[32m[I 2022-08-29 18:14:31,543]\u001b[0m Trial 87 finished with value: 0.997110870350307 and parameters: {'criterion': 'entropy', 'max_depth': 29, 'max_features': 'sqrt', 'max_leaf_nodes': 43, 'n_estimators': 379}. Best is trial 21 with value: 0.9977127723606598.\u001b[0m\n"
     ]
    },
    {
     "name": "stdout",
     "output_type": "stream",
     "text": [
      "AUC SCORE: 0.997110870350307\n"
     ]
    },
    {
     "name": "stderr",
     "output_type": "stream",
     "text": [
      "\u001b[32m[I 2022-08-29 18:14:34,187]\u001b[0m Trial 88 finished with value: 0.9967497291440954 and parameters: {'criterion': 'entropy', 'max_depth': 50, 'max_features': 'auto', 'max_leaf_nodes': 25, 'n_estimators': 552}. Best is trial 21 with value: 0.9977127723606598.\u001b[0m\n"
     ]
    },
    {
     "name": "stdout",
     "output_type": "stream",
     "text": [
      "AUC SCORE: 0.9967497291440954\n"
     ]
    },
    {
     "name": "stderr",
     "output_type": "stream",
     "text": [
      "\u001b[32m[I 2022-08-29 18:14:37,230]\u001b[0m Trial 89 finished with value: 0.997351631154448 and parameters: {'criterion': 'entropy', 'max_depth': 47, 'max_features': 'sqrt', 'max_leaf_nodes': 19, 'n_estimators': 671}. Best is trial 21 with value: 0.9977127723606598.\u001b[0m\n"
     ]
    },
    {
     "name": "stdout",
     "output_type": "stream",
     "text": [
      "AUC SCORE: 0.997351631154448\n"
     ]
    },
    {
     "name": "stderr",
     "output_type": "stream",
     "text": [
      "\u001b[32m[I 2022-08-29 18:14:39,454]\u001b[0m Trial 90 finished with value: 0.9965089683399543 and parameters: {'criterion': 'gini', 'max_depth': 39, 'max_features': 'auto', 'max_leaf_nodes': 31, 'n_estimators': 468}. Best is trial 21 with value: 0.9977127723606598.\u001b[0m\n"
     ]
    },
    {
     "name": "stdout",
     "output_type": "stream",
     "text": [
      "AUC SCORE: 0.9965089683399543\n"
     ]
    },
    {
     "name": "stderr",
     "output_type": "stream",
     "text": [
      "\u001b[32m[I 2022-08-29 18:14:41,250]\u001b[0m Trial 91 finished with value: 0.9974118213554832 and parameters: {'criterion': 'entropy', 'max_depth': 49, 'max_features': 'auto', 'max_leaf_nodes': 21, 'n_estimators': 320}. Best is trial 21 with value: 0.9977127723606598.\u001b[0m\n"
     ]
    },
    {
     "name": "stdout",
     "output_type": "stream",
     "text": [
      "AUC SCORE: 0.9974118213554832\n"
     ]
    },
    {
     "name": "stderr",
     "output_type": "stream",
     "text": [
      "\u001b[32m[I 2022-08-29 18:14:43,092]\u001b[0m Trial 92 finished with value: 0.9974720115565185 and parameters: {'criterion': 'entropy', 'max_depth': 47, 'max_features': 'auto', 'max_leaf_nodes': 22, 'n_estimators': 321}. Best is trial 21 with value: 0.9977127723606598.\u001b[0m\n"
     ]
    },
    {
     "name": "stdout",
     "output_type": "stream",
     "text": [
      "AUC SCORE: 0.9974720115565185\n"
     ]
    },
    {
     "name": "stderr",
     "output_type": "stream",
     "text": [
      "\u001b[32m[I 2022-08-29 18:14:45,082]\u001b[0m Trial 93 finished with value: 0.9971710605513423 and parameters: {'criterion': 'entropy', 'max_depth': 44, 'max_features': 'auto', 'max_leaf_nodes': 22, 'n_estimators': 324}. Best is trial 21 with value: 0.9977127723606598.\u001b[0m\n"
     ]
    },
    {
     "name": "stdout",
     "output_type": "stream",
     "text": [
      "AUC SCORE: 0.9971710605513423\n"
     ]
    },
    {
     "name": "stderr",
     "output_type": "stream",
     "text": [
      "\u001b[32m[I 2022-08-29 18:14:46,867]\u001b[0m Trial 94 finished with value: 0.9975923919585891 and parameters: {'criterion': 'entropy', 'max_depth': 49, 'max_features': 'auto', 'max_leaf_nodes': 21, 'n_estimators': 299}. Best is trial 21 with value: 0.9977127723606598.\u001b[0m\n"
     ]
    },
    {
     "name": "stdout",
     "output_type": "stream",
     "text": [
      "AUC SCORE: 0.9975923919585891\n"
     ]
    },
    {
     "name": "stderr",
     "output_type": "stream",
     "text": [
      "\u001b[32m[I 2022-08-29 18:14:48,293]\u001b[0m Trial 95 finished with value: 0.9963885879378838 and parameters: {'criterion': 'entropy', 'max_depth': 42, 'max_features': 'sqrt', 'max_leaf_nodes': 21, 'n_estimators': 223}. Best is trial 21 with value: 0.9977127723606598.\u001b[0m\n"
     ]
    },
    {
     "name": "stdout",
     "output_type": "stream",
     "text": [
      "AUC SCORE: 0.9963885879378838\n"
     ]
    },
    {
     "name": "stderr",
     "output_type": "stream",
     "text": [
      "\u001b[32m[I 2022-08-29 18:14:49,845]\u001b[0m Trial 96 finished with value: 0.997110870350307 and parameters: {'criterion': 'entropy', 'max_depth': 46, 'max_features': 'auto', 'max_leaf_nodes': 23, 'n_estimators': 277}. Best is trial 21 with value: 0.9977127723606598.\u001b[0m\n"
     ]
    },
    {
     "name": "stdout",
     "output_type": "stream",
     "text": [
      "AUC SCORE: 0.997110870350307\n"
     ]
    },
    {
     "name": "stderr",
     "output_type": "stream",
     "text": [
      "\u001b[32m[I 2022-08-29 18:14:51,545]\u001b[0m Trial 97 finished with value: 0.997110870350307 and parameters: {'criterion': 'entropy', 'max_depth': 18, 'max_features': 'auto', 'max_leaf_nodes': 22, 'n_estimators': 307}. Best is trial 21 with value: 0.9977127723606598.\u001b[0m\n"
     ]
    },
    {
     "name": "stdout",
     "output_type": "stream",
     "text": [
      "AUC SCORE: 0.997110870350307\n"
     ]
    },
    {
     "name": "stderr",
     "output_type": "stream",
     "text": [
      "\u001b[32m[I 2022-08-29 18:14:53,317]\u001b[0m Trial 98 finished with value: 0.9975923919585891 and parameters: {'criterion': 'entropy', 'max_depth': 47, 'max_features': 'sqrt', 'max_leaf_nodes': 25, 'n_estimators': 335}. Best is trial 21 with value: 0.9977127723606598.\u001b[0m\n"
     ]
    },
    {
     "name": "stdout",
     "output_type": "stream",
     "text": [
      "AUC SCORE: 0.9975923919585891\n"
     ]
    },
    {
     "name": "stderr",
     "output_type": "stream",
     "text": [
      "\u001b[32m[I 2022-08-29 18:14:54,785]\u001b[0m Trial 99 finished with value: 0.9968701095461658 and parameters: {'criterion': 'entropy', 'max_depth': 43, 'max_features': 'sqrt', 'max_leaf_nodes': 25, 'n_estimators': 243}. Best is trial 21 with value: 0.9977127723606598.\u001b[0m\n"
     ]
    },
    {
     "name": "stdout",
     "output_type": "stream",
     "text": [
      "AUC SCORE: 0.9968701095461658\n",
      "Accuracy: 0.9977127723606598\n",
      "Best hyperparameters: {'criterion': 'entropy', 'max_depth': 36, 'max_features': 'sqrt', 'max_leaf_nodes': 23, 'n_estimators': 376}\n"
     ]
    }
   ],
   "source": [
    "def objective(trial):\n",
    "    criterion = trial.suggest_categorical('criterion', [\"gini\", \"entropy\"])\n",
    "    max_depth = trial.suggest_int('max_depth', 1, 50)\n",
    "    max_features = trial.suggest_categorical('max_features', ['auto', 'sqrt','log2'])\n",
    "    max_leaf_nodes = trial.suggest_int('max_leaf_nodes', 2, 50)\n",
    "    n_estimators =  trial.suggest_int('n_estimators', 30, 1000)\n",
    "    clf = RandomForestClassifier( criterion = criterion,\n",
    "                                 max_depth = max_depth, max_features = max_features,\n",
    "                                 max_leaf_nodes = max_leaf_nodes,n_estimators = n_estimators,n_jobs=-1)\n",
    "    \n",
    "    clf.fit(X_train, y_train)\n",
    "    y_pred = clf.predict(X_test)\n",
    "    y_pred_rf = clf.predict_proba(X_test)[:,1]\n",
    "    score = roc_auc_score( y_test,y_pred_rf)\n",
    "    print(\"AUC SCORE:\",score)\n",
    "    return score\n",
    "    \n",
    "\n",
    "\n",
    "\n",
    "\n",
    "study = optuna.create_study(direction='maximize')\n",
    "study.optimize(objective, n_trials=100)\n",
    "trial = study.best_trial\n",
    "print('Accuracy: {}'.format(trial.value))\n",
    "print(\"Best hyperparameters: {}\".format(trial.params))\n",
    "\n"
   ]
  },
  {
   "cell_type": "code",
   "execution_count": 11,
   "metadata": {
    "scrolled": true
   },
   "outputs": [
    {
     "data": {
      "text/plain": [
       "{'criterion': 'entropy',\n",
       " 'max_depth': 36,\n",
       " 'max_features': 'sqrt',\n",
       " 'max_leaf_nodes': 23,\n",
       " 'n_estimators': 376}"
      ]
     },
     "execution_count": 11,
     "metadata": {},
     "output_type": "execute_result"
    }
   ],
   "source": [
    "trial.params"
   ]
  },
  {
   "cell_type": "markdown",
   "metadata": {},
   "source": [
    "### Modeling and Evaluation"
   ]
  },
  {
   "cell_type": "code",
   "execution_count": 12,
   "metadata": {
    "scrolled": false
   },
   "outputs": [
    {
     "name": "stderr",
     "output_type": "stream",
     "text": [
      "[Parallel(n_jobs=-1)]: Using backend ThreadingBackend with 12 concurrent workers.\n",
      "[Parallel(n_jobs=-1)]: Done  26 tasks      | elapsed:    0.3s\n",
      "[Parallel(n_jobs=-1)]: Done 176 tasks      | elapsed:    0.5s\n",
      "[Parallel(n_jobs=-1)]: Done 376 out of 376 | elapsed:    0.9s finished\n",
      "[Parallel(n_jobs=12)]: Using backend ThreadingBackend with 12 concurrent workers.\n"
     ]
    },
    {
     "name": "stdout",
     "output_type": "stream",
     "text": [
      "The AUC of Random Forest is 0.99663\n"
     ]
    },
    {
     "name": "stderr",
     "output_type": "stream",
     "text": [
      "[Parallel(n_jobs=12)]: Done  26 tasks      | elapsed:    0.2s\n",
      "[Parallel(n_jobs=12)]: Done 176 tasks      | elapsed:    0.3s\n",
      "[Parallel(n_jobs=12)]: Done 376 out of 376 | elapsed:    0.3s finished\n"
     ]
    }
   ],
   "source": [
    "rf = RandomForestClassifier(random_state=4, verbose=True,**trial.params,n_jobs=-1,\n",
    "                                     class_weight='balanced')\n",
    "rf.fit(X_train, y_train)\n",
    "y_pred_rf = rf.predict_proba(X_test)[:,1]\n",
    "# Getting AUC\n",
    "auc_rf = roc_auc_score(y_test, y_pred_rf)\n",
    "# Print results\n",
    "print(f\"The AUC of Random Forest is {auc_rf:.5f}\")"
   ]
  },
  {
   "cell_type": "code",
   "execution_count": null,
   "metadata": {},
   "outputs": [],
   "source": []
  }
 ],
 "metadata": {
  "kernelspec": {
   "display_name": "Python 3",
   "language": "python",
   "name": "python3"
  },
  "language_info": {
   "codemirror_mode": {
    "name": "ipython",
    "version": 3
   },
   "file_extension": ".py",
   "mimetype": "text/x-python",
   "name": "python",
   "nbconvert_exporter": "python",
   "pygments_lexer": "ipython3",
   "version": "3.6.10"
  }
 },
 "nbformat": 4,
 "nbformat_minor": 4
}
